{
 "cells": [
  {
   "cell_type": "code",
   "execution_count": 4,
   "metadata": {},
   "outputs": [],
   "source": [
    "# code using api from opendata.nl\n"
   ]
  },
  {
   "cell_type": "code",
   "execution_count": 5,
   "metadata": {},
   "outputs": [
    {
     "name": "stdout",
     "output_type": "stream",
     "text": [
      "Defaulting to user installation because normal site-packages is not writeable\n",
      "Requirement already satisfied: requests in /Users/ellasartory/Library/Python/3.9/lib/python/site-packages (2.31.0)\n",
      "Requirement already satisfied: charset-normalizer<4,>=2 in /Users/ellasartory/Library/Python/3.9/lib/python/site-packages (from requests) (3.3.0)\n",
      "Requirement already satisfied: idna<4,>=2.5 in /Users/ellasartory/Library/Python/3.9/lib/python/site-packages (from requests) (3.4)\n",
      "Requirement already satisfied: urllib3<3,>=1.21.1 in /Users/ellasartory/Library/Python/3.9/lib/python/site-packages (from requests) (2.0.6)\n",
      "Requirement already satisfied: certifi>=2017.4.17 in /Users/ellasartory/Library/Python/3.9/lib/python/site-packages (from requests) (2023.7.22)\n",
      "Note: you may need to restart the kernel to use updated packages.\n",
      "Requirement already satisfied: cbsodata in /Users/ellasartory/Library/Python/3.9/lib/python/site-packages (1.3.5)\n",
      "Requirement already satisfied: requests in /Users/ellasartory/Library/Python/3.9/lib/python/site-packages (from cbsodata) (2.31.0)\n",
      "Requirement already satisfied: charset-normalizer<4,>=2 in /Users/ellasartory/Library/Python/3.9/lib/python/site-packages (from requests->cbsodata) (3.3.0)\n",
      "Requirement already satisfied: idna<4,>=2.5 in /Users/ellasartory/Library/Python/3.9/lib/python/site-packages (from requests->cbsodata) (3.4)\n",
      "Requirement already satisfied: urllib3<3,>=1.21.1 in /Users/ellasartory/Library/Python/3.9/lib/python/site-packages (from requests->cbsodata) (2.0.6)\n",
      "Requirement already satisfied: certifi>=2017.4.17 in /Users/ellasartory/Library/Python/3.9/lib/python/site-packages (from requests->cbsodata) (2023.7.22)\n",
      "Note: you may need to restart the kernel to use updated packages.\n"
     ]
    }
   ],
   "source": [
    "%pip install requests\n",
    "%pip install --user cbsodata \n",
    "import pandas as pd\n",
    "import numpy as np\n",
    "import statistics\n",
    "import requests\n",
    "import cbsodata\n"
   ]
  },
  {
   "cell_type": "code",
   "execution_count": 30,
   "metadata": {},
   "outputs": [
    {
     "ename": "HTTPError",
     "evalue": "Downloading table '84711ENG' failed. 500 Server Error: Term 'Population,Population 12 years or older' is not valid in a $select or $expand expression. for url: https://opendata.cbs.nl/ODataFeed/odata/84711ENG/TypedDataSet?%24format=json&%24select=Population%2CPopulation+12+years+or+older&%24filter=Population+eq+%27A048709%27",
     "output_type": "error",
     "traceback": [
      "\u001b[0;31m---------------------------------------------------------------------------\u001b[0m",
      "\u001b[0;31mHTTPError\u001b[0m                                 Traceback (most recent call last)",
      "File \u001b[0;32m~/Library/Python/3.9/lib/python/site-packages/cbsodata/cbsodata3.py:177\u001b[0m, in \u001b[0;36m_download_metadata\u001b[0;34m(table_id, metadata_name, select, filters, catalog_url, **kwargs)\u001b[0m\n\u001b[1;32m    176\u001b[0m r \u001b[39m=\u001b[39m s\u001b[39m.\u001b[39msend(p, \u001b[39m*\u001b[39m\u001b[39m*\u001b[39mrequest_kwargs)\n\u001b[0;32m--> 177\u001b[0m r\u001b[39m.\u001b[39;49mraise_for_status()\n\u001b[1;32m    178\u001b[0m r\u001b[39m.\u001b[39mencoding \u001b[39m=\u001b[39m \u001b[39m\"\u001b[39m\u001b[39mutf-8\u001b[39m\u001b[39m\"\u001b[39m\n",
      "File \u001b[0;32m~/Library/Python/3.9/lib/python/site-packages/requests/models.py:1021\u001b[0m, in \u001b[0;36mResponse.raise_for_status\u001b[0;34m(self)\u001b[0m\n\u001b[1;32m   1020\u001b[0m \u001b[39mif\u001b[39;00m http_error_msg:\n\u001b[0;32m-> 1021\u001b[0m     \u001b[39mraise\u001b[39;00m HTTPError(http_error_msg, response\u001b[39m=\u001b[39m\u001b[39mself\u001b[39m)\n",
      "\u001b[0;31mHTTPError\u001b[0m: 500 Server Error: Term 'Population,Population 12 years or older' is not valid in a $select or $expand expression. for url: https://opendata.cbs.nl/ODataFeed/odata/84711ENG/TypedDataSet?%24format=json&%24select=Population%2CPopulation+12+years+or+older&%24filter=Population+eq+%27A048709%27",
      "\nThe above exception was the direct cause of the following exception:\n",
      "\u001b[0;31mHTTPError\u001b[0m                                 Traceback (most recent call last)",
      "\u001b[1;32m/Users/ellasartory/Library/CloudStorage/OneDrive-UvA/scraping/opendata.nl.ipynb Cell 3\u001b[0m line \u001b[0;36m5\n\u001b[1;32m      <a href='vscode-notebook-cell:/Users/ellasartory/Library/CloudStorage/OneDrive-UvA/scraping/opendata.nl.ipynb#W5sZmlsZQ%3D%3D?line=1'>2</a>\u001b[0m toc \u001b[39m=\u001b[39m pd\u001b[39m.\u001b[39mDataFrame(cbsodata\u001b[39m.\u001b[39mget_table_list())\n\u001b[1;32m      <a href='vscode-notebook-cell:/Users/ellasartory/Library/CloudStorage/OneDrive-UvA/scraping/opendata.nl.ipynb#W5sZmlsZQ%3D%3D?line=3'>4</a>\u001b[0m \u001b[39m# Downloading entire dataset (can take up to 30s)\u001b[39;00m\n\u001b[0;32m----> <a href='vscode-notebook-cell:/Users/ellasartory/Library/CloudStorage/OneDrive-UvA/scraping/opendata.nl.ipynb#W5sZmlsZQ%3D%3D?line=4'>5</a>\u001b[0m data \u001b[39m=\u001b[39m pd\u001b[39m.\u001b[39mDataFrame(cbsodata\u001b[39m.\u001b[39;49mget_data(\u001b[39m\"\u001b[39;49m\u001b[39m84711ENG\u001b[39;49m\u001b[39m\"\u001b[39;49m,\n\u001b[1;32m      <a href='vscode-notebook-cell:/Users/ellasartory/Library/CloudStorage/OneDrive-UvA/scraping/opendata.nl.ipynb#W5sZmlsZQ%3D%3D?line=5'>6</a>\u001b[0m                         filters \u001b[39m=\u001b[39;49m \u001b[39m\"\u001b[39;49m\u001b[39mPopulation eq \u001b[39;49m\u001b[39m'\u001b[39;49m\u001b[39mA048709\u001b[39;49m\u001b[39m'\u001b[39;49m\u001b[39m\"\u001b[39;49m,\n\u001b[1;32m      <a href='vscode-notebook-cell:/Users/ellasartory/Library/CloudStorage/OneDrive-UvA/scraping/opendata.nl.ipynb#W5sZmlsZQ%3D%3D?line=6'>7</a>\u001b[0m                         select \u001b[39m=\u001b[39;49m [\u001b[39m\"\u001b[39;49m\u001b[39mPopulation\u001b[39;49m\u001b[39m\"\u001b[39;49m, \u001b[39m\"\u001b[39;49m\u001b[39mPopulation 12 years or older\u001b[39;49m\u001b[39m\"\u001b[39;49m]))\n\u001b[1;32m      <a href='vscode-notebook-cell:/Users/ellasartory/Library/CloudStorage/OneDrive-UvA/scraping/opendata.nl.ipynb#W5sZmlsZQ%3D%3D?line=7'>8</a>\u001b[0m \u001b[39mprint\u001b[39m(data)\n\u001b[1;32m     <a href='vscode-notebook-cell:/Users/ellasartory/Library/CloudStorage/OneDrive-UvA/scraping/opendata.nl.ipynb#W5sZmlsZQ%3D%3D?line=9'>10</a>\u001b[0m \u001b[39m# Downloading metadata\u001b[39;00m\n",
      "File \u001b[0;32m~/Library/Python/3.9/lib/python/site-packages/cbsodata/cbsodata3.py:480\u001b[0m, in \u001b[0;36mget_data\u001b[0;34m(table_id, dir, typed, select, filters, catalog_url, **kwargs)\u001b[0m\n\u001b[1;32m    451\u001b[0m \u001b[39m\"\"\"Get the CBS data table.\u001b[39;00m\n\u001b[1;32m    452\u001b[0m \n\u001b[1;32m    453\u001b[0m \u001b[39mParameters\u001b[39;00m\n\u001b[0;32m   (...)\u001b[0m\n\u001b[1;32m    475\u001b[0m \u001b[39m    The requested data.\u001b[39;00m\n\u001b[1;32m    476\u001b[0m \u001b[39m\"\"\"\u001b[39;00m\n\u001b[1;32m    478\u001b[0m _catalog_url \u001b[39m=\u001b[39m _get_catalog_url(catalog_url)\n\u001b[0;32m--> 480\u001b[0m metadata \u001b[39m=\u001b[39m download_data(\n\u001b[1;32m    481\u001b[0m     table_id,\n\u001b[1;32m    482\u001b[0m     \u001b[39mdir\u001b[39;49m\u001b[39m=\u001b[39;49m\u001b[39mdir\u001b[39;49m,\n\u001b[1;32m    483\u001b[0m     typed\u001b[39m=\u001b[39;49mtyped,\n\u001b[1;32m    484\u001b[0m     select\u001b[39m=\u001b[39;49mselect,\n\u001b[1;32m    485\u001b[0m     filters\u001b[39m=\u001b[39;49mfilters,\n\u001b[1;32m    486\u001b[0m     catalog_url\u001b[39m=\u001b[39;49m_catalog_url,\n\u001b[1;32m    487\u001b[0m     \u001b[39m*\u001b[39;49m\u001b[39m*\u001b[39;49mkwargs,\n\u001b[1;32m    488\u001b[0m )\n\u001b[1;32m    490\u001b[0m \u001b[39mif\u001b[39;00m \u001b[39m\"\u001b[39m\u001b[39mTypedDataSet\u001b[39m\u001b[39m\"\u001b[39m \u001b[39min\u001b[39;00m metadata\u001b[39m.\u001b[39mkeys():\n\u001b[1;32m    491\u001b[0m     data \u001b[39m=\u001b[39m metadata[\u001b[39m\"\u001b[39m\u001b[39mTypedDataSet\u001b[39m\u001b[39m\"\u001b[39m]\n",
      "File \u001b[0;32m~/Library/Python/3.9/lib/python/site-packages/cbsodata/cbsodata3.py:301\u001b[0m, in \u001b[0;36mdownload_data\u001b[0;34m(table_id, dir, typed, select, filters, catalog_url, **kwargs)\u001b[0m\n\u001b[1;32m    298\u001b[0m \u001b[39mfor\u001b[39;00m table_name \u001b[39min\u001b[39;00m metadata_table_names:\n\u001b[1;32m    299\u001b[0m     \u001b[39m# download table\u001b[39;00m\n\u001b[1;32m    300\u001b[0m     \u001b[39mif\u001b[39;00m table_name \u001b[39min\u001b[39;00m [\u001b[39m\"\u001b[39m\u001b[39mTypedDataSet\u001b[39m\u001b[39m\"\u001b[39m, \u001b[39m\"\u001b[39m\u001b[39mUntypedDataSet\u001b[39m\u001b[39m\"\u001b[39m]:\n\u001b[0;32m--> 301\u001b[0m         metadata \u001b[39m=\u001b[39m _download_metadata(\n\u001b[1;32m    302\u001b[0m             table_id,\n\u001b[1;32m    303\u001b[0m             table_name,\n\u001b[1;32m    304\u001b[0m             select\u001b[39m=\u001b[39;49mselect,\n\u001b[1;32m    305\u001b[0m             filters\u001b[39m=\u001b[39;49mfilters,\n\u001b[1;32m    306\u001b[0m             catalog_url\u001b[39m=\u001b[39;49m_catalog_url,\n\u001b[1;32m    307\u001b[0m             \u001b[39m*\u001b[39;49m\u001b[39m*\u001b[39;49mkwargs,\n\u001b[1;32m    308\u001b[0m         )\n\u001b[1;32m    309\u001b[0m     \u001b[39melse\u001b[39;00m:\n\u001b[1;32m    310\u001b[0m         metadata \u001b[39m=\u001b[39m _download_metadata(\n\u001b[1;32m    311\u001b[0m             table_id, table_name, catalog_url\u001b[39m=\u001b[39m_catalog_url, \u001b[39m*\u001b[39m\u001b[39m*\u001b[39mkwargs\n\u001b[1;32m    312\u001b[0m         )\n",
      "File \u001b[0;32m~/Library/Python/3.9/lib/python/site-packages/cbsodata/cbsodata3.py:192\u001b[0m, in \u001b[0;36m_download_metadata\u001b[0;34m(table_id, metadata_name, select, filters, catalog_url, **kwargs)\u001b[0m\n\u001b[1;32m    189\u001b[0m     \u001b[39mreturn\u001b[39;00m data\n\u001b[1;32m    191\u001b[0m \u001b[39mexcept\u001b[39;00m requests\u001b[39m.\u001b[39mHTTPError \u001b[39mas\u001b[39;00m http_err:\n\u001b[0;32m--> 192\u001b[0m     \u001b[39mraise\u001b[39;00m requests\u001b[39m.\u001b[39mHTTPError(\n\u001b[1;32m    193\u001b[0m         \u001b[39mf\u001b[39m\u001b[39m\"\u001b[39m\u001b[39mDownloading table \u001b[39m\u001b[39m'\u001b[39m\u001b[39m{\u001b[39;00mtable_id\u001b[39m}\u001b[39;00m\u001b[39m'\u001b[39m\u001b[39m failed. \u001b[39m\u001b[39m{\u001b[39;00m\u001b[39mstr\u001b[39m(http_err)\u001b[39m}\u001b[39;00m\u001b[39m\"\u001b[39m\n\u001b[1;32m    194\u001b[0m     ) \u001b[39mfrom\u001b[39;00m \u001b[39mhttp_err\u001b[39;00m\n",
      "\u001b[0;31mHTTPError\u001b[0m: Downloading table '84711ENG' failed. 500 Server Error: Term 'Population,Population 12 years or older' is not valid in a $select or $expand expression. for url: https://opendata.cbs.nl/ODataFeed/odata/84711ENG/TypedDataSet?%24format=json&%24select=Population%2CPopulation+12+years+or+older&%24filter=Population+eq+%27A048709%27"
     ]
    }
   ],
   "source": [
    "# Downloading table list\n",
    "toc = pd.DataFrame(cbsodata.get_table_list())\n",
    "\n",
    "# Downloading entire dataset (can take up to 30s)\n",
    "data = pd.DataFrame(cbsodata.get_data(\"84711ENG\",\n",
    "                            filters = \"Population eq 'A048709'\",\n",
    "                            select = [\"Population\", \"Population 12 years or older\"]))\n",
    "print(data)\n",
    "\n",
    "# Downloading metadata\n",
    "metadata = pd.DataFrame(cbsodata.get_meta(\"84711ENG\", \"DataProperties\"))\n",
    "print(metadata[['Key','Title']])"
   ]
  },
  {
   "cell_type": "code",
   "execution_count": 18,
   "metadata": {},
   "outputs": [
    {
     "name": "stdout",
     "output_type": "stream",
     "text": [
      "Here is the result from the API:\n",
      "{\n",
      "  \"odata.metadata\":\"https://opendata.cbs.nl/ODataApi/OData/84711ENG/$metadata#Cbs.OData.WebAPI.Population\",\"value\":[\n",
      "    {\n",
      "      \"Key\":\"A048710\",\"Title\":\"Population 6 years or older\",\"Description\":\"\",\"CategoryGroupID\":null\n",
      "    },{\n",
      "      \"Key\":\"A048709\",\"Title\":\"Population: 12 years or older\",\"Description\":\"\",\"CategoryGroupID\":null\n",
      "    }\n",
      "  ]\n",
      "}\n"
     ]
    }
   ],
   "source": [
    "import requests\n",
    "\n",
    "\n",
    "name_column = \"Population\"\n",
    "base_url = \"https://opendata.cbs.nl/ODataApi/OData/84711ENG/\"\n",
    "key = \"A048710\" \n",
    "\n",
    "# Complete URL for the API call\n",
    "url = f\"{base_url}{name_column}\"\n",
    "\n",
    "response = requests.get(url)\n",
    "\n",
    "# Check if the request was successful\n",
    "if response.status_code == 200:\n",
    "    print(\"Here is the result from the API:\")\n",
    "    print(response.text)\n",
    "    json_string = response.text\n",
    "else:\n",
    "    print(\"Error: Unable to get data from Opendata.nl\")\n",
    "\n",
    "\n",
    "\n"
   ]
  },
  {
   "cell_type": "code",
   "execution_count": null,
   "metadata": {},
   "outputs": [],
   "source": []
  },
  {
   "cell_type": "code",
   "execution_count": null,
   "metadata": {},
   "outputs": [],
   "source": []
  }
 ],
 "metadata": {
  "kernelspec": {
   "display_name": "Python 3",
   "language": "python",
   "name": "python3"
  },
  "language_info": {
   "codemirror_mode": {
    "name": "ipython",
    "version": 3
   },
   "file_extension": ".py",
   "mimetype": "text/x-python",
   "name": "python",
   "nbconvert_exporter": "python",
   "pygments_lexer": "ipython3",
   "version": "3.9.6"
  }
 },
 "nbformat": 4,
 "nbformat_minor": 2
}
